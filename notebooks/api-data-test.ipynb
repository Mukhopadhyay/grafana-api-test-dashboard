{
 "cells": [
  {
   "cell_type": "code",
   "execution_count": 4,
   "id": "348c4251",
   "metadata": {},
   "outputs": [],
   "source": [
    "import json\n",
    "import requests"
   ]
  },
  {
   "cell_type": "code",
   "execution_count": 7,
   "id": "dc5c3b42",
   "metadata": {},
   "outputs": [],
   "source": [
    "url = 'https://randomuser.me/api/'"
   ]
  },
  {
   "cell_type": "code",
   "execution_count": 8,
   "id": "76aaa7cb",
   "metadata": {},
   "outputs": [],
   "source": [
    "r = requests.get(url)\n",
    "response = json.loads(r.text)"
   ]
  },
  {
   "cell_type": "code",
   "execution_count": 17,
   "id": "489b1529",
   "metadata": {},
   "outputs": [
    {
     "data": {
      "text/plain": [
       "0.49362"
      ]
     },
     "execution_count": 17,
     "metadata": {},
     "output_type": "execute_result"
    }
   ],
   "source": [
    "r.elapsed.microseconds / 10e5"
   ]
  },
  {
   "cell_type": "code",
   "execution_count": null,
   "id": "14c6089d",
   "metadata": {},
   "outputs": [],
   "source": []
  }
 ],
 "metadata": {
  "kernelspec": {
   "display_name": "Python 3 (ipykernel)",
   "language": "python",
   "name": "python3"
  },
  "language_info": {
   "codemirror_mode": {
    "name": "ipython",
    "version": 3
   },
   "file_extension": ".py",
   "mimetype": "text/x-python",
   "name": "python",
   "nbconvert_exporter": "python",
   "pygments_lexer": "ipython3",
   "version": "3.9.13"
  }
 },
 "nbformat": 4,
 "nbformat_minor": 5
}
